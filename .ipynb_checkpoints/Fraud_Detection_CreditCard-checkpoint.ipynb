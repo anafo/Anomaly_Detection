{
 "cells": [
  {
   "cell_type": "code",
   "execution_count": 1,
   "metadata": {},
   "outputs": [],
   "source": [
    "import numpy as np\n",
    "import pandas as pd\n",
    "import os\n",
    "import matplotlib.pyplot as plt\n",
    "import seaborn as sns\n",
    "\n",
    "from sklearn.model_selection import train_test_split, cross_val_score\n",
    "from sklearn.metrics import classification_report\n",
    "from sklearn.ensemble import IsolationForest, GradientBoostingClassifier\n",
    "\n",
    "from sklearn.metrics import f1_score, recall_score\n",
    "from pylab import rcParams\n",
    "rcParams['figure.figsize'] = 10, 6"
   ]
  },
  {
   "cell_type": "markdown",
   "metadata": {},
   "source": [
    "# Data"
   ]
  },
  {
   "cell_type": "markdown",
   "metadata": {},
   "source": [
    "Data source: https://www.kaggle.com/mlg-ulb/creditcardfraud\n",
    "<br>V1-V28 are variables derived from PCA\n",
    "<br>No missing values"
   ]
  },
  {
   "cell_type": "code",
   "execution_count": 2,
   "metadata": {},
   "outputs": [
    {
     "data": {
      "text/html": [
       "<div>\n",
       "<style scoped>\n",
       "    .dataframe tbody tr th:only-of-type {\n",
       "        vertical-align: middle;\n",
       "    }\n",
       "\n",
       "    .dataframe tbody tr th {\n",
       "        vertical-align: top;\n",
       "    }\n",
       "\n",
       "    .dataframe thead th {\n",
       "        text-align: right;\n",
       "    }\n",
       "</style>\n",
       "<table border=\"1\" class=\"dataframe\">\n",
       "  <thead>\n",
       "    <tr style=\"text-align: right;\">\n",
       "      <th></th>\n",
       "      <th>Time</th>\n",
       "      <th>V1</th>\n",
       "      <th>V2</th>\n",
       "      <th>V3</th>\n",
       "      <th>V4</th>\n",
       "      <th>V5</th>\n",
       "      <th>V6</th>\n",
       "      <th>V7</th>\n",
       "      <th>V8</th>\n",
       "      <th>V9</th>\n",
       "      <th>...</th>\n",
       "      <th>V21</th>\n",
       "      <th>V22</th>\n",
       "      <th>V23</th>\n",
       "      <th>V24</th>\n",
       "      <th>V25</th>\n",
       "      <th>V26</th>\n",
       "      <th>V27</th>\n",
       "      <th>V28</th>\n",
       "      <th>Amount</th>\n",
       "      <th>Class</th>\n",
       "    </tr>\n",
       "  </thead>\n",
       "  <tbody>\n",
       "    <tr>\n",
       "      <th>0</th>\n",
       "      <td>0.0</td>\n",
       "      <td>-1.359807</td>\n",
       "      <td>-0.072781</td>\n",
       "      <td>2.536347</td>\n",
       "      <td>1.378155</td>\n",
       "      <td>-0.338321</td>\n",
       "      <td>0.462388</td>\n",
       "      <td>0.239599</td>\n",
       "      <td>0.098698</td>\n",
       "      <td>0.363787</td>\n",
       "      <td>...</td>\n",
       "      <td>-0.018307</td>\n",
       "      <td>0.277838</td>\n",
       "      <td>-0.110474</td>\n",
       "      <td>0.066928</td>\n",
       "      <td>0.128539</td>\n",
       "      <td>-0.189115</td>\n",
       "      <td>0.133558</td>\n",
       "      <td>-0.021053</td>\n",
       "      <td>149.62</td>\n",
       "      <td>0</td>\n",
       "    </tr>\n",
       "    <tr>\n",
       "      <th>1</th>\n",
       "      <td>0.0</td>\n",
       "      <td>1.191857</td>\n",
       "      <td>0.266151</td>\n",
       "      <td>0.166480</td>\n",
       "      <td>0.448154</td>\n",
       "      <td>0.060018</td>\n",
       "      <td>-0.082361</td>\n",
       "      <td>-0.078803</td>\n",
       "      <td>0.085102</td>\n",
       "      <td>-0.255425</td>\n",
       "      <td>...</td>\n",
       "      <td>-0.225775</td>\n",
       "      <td>-0.638672</td>\n",
       "      <td>0.101288</td>\n",
       "      <td>-0.339846</td>\n",
       "      <td>0.167170</td>\n",
       "      <td>0.125895</td>\n",
       "      <td>-0.008983</td>\n",
       "      <td>0.014724</td>\n",
       "      <td>2.69</td>\n",
       "      <td>0</td>\n",
       "    </tr>\n",
       "    <tr>\n",
       "      <th>2</th>\n",
       "      <td>1.0</td>\n",
       "      <td>-1.358354</td>\n",
       "      <td>-1.340163</td>\n",
       "      <td>1.773209</td>\n",
       "      <td>0.379780</td>\n",
       "      <td>-0.503198</td>\n",
       "      <td>1.800499</td>\n",
       "      <td>0.791461</td>\n",
       "      <td>0.247676</td>\n",
       "      <td>-1.514654</td>\n",
       "      <td>...</td>\n",
       "      <td>0.247998</td>\n",
       "      <td>0.771679</td>\n",
       "      <td>0.909412</td>\n",
       "      <td>-0.689281</td>\n",
       "      <td>-0.327642</td>\n",
       "      <td>-0.139097</td>\n",
       "      <td>-0.055353</td>\n",
       "      <td>-0.059752</td>\n",
       "      <td>378.66</td>\n",
       "      <td>0</td>\n",
       "    </tr>\n",
       "    <tr>\n",
       "      <th>3</th>\n",
       "      <td>1.0</td>\n",
       "      <td>-0.966272</td>\n",
       "      <td>-0.185226</td>\n",
       "      <td>1.792993</td>\n",
       "      <td>-0.863291</td>\n",
       "      <td>-0.010309</td>\n",
       "      <td>1.247203</td>\n",
       "      <td>0.237609</td>\n",
       "      <td>0.377436</td>\n",
       "      <td>-1.387024</td>\n",
       "      <td>...</td>\n",
       "      <td>-0.108300</td>\n",
       "      <td>0.005274</td>\n",
       "      <td>-0.190321</td>\n",
       "      <td>-1.175575</td>\n",
       "      <td>0.647376</td>\n",
       "      <td>-0.221929</td>\n",
       "      <td>0.062723</td>\n",
       "      <td>0.061458</td>\n",
       "      <td>123.50</td>\n",
       "      <td>0</td>\n",
       "    </tr>\n",
       "    <tr>\n",
       "      <th>4</th>\n",
       "      <td>2.0</td>\n",
       "      <td>-1.158233</td>\n",
       "      <td>0.877737</td>\n",
       "      <td>1.548718</td>\n",
       "      <td>0.403034</td>\n",
       "      <td>-0.407193</td>\n",
       "      <td>0.095921</td>\n",
       "      <td>0.592941</td>\n",
       "      <td>-0.270533</td>\n",
       "      <td>0.817739</td>\n",
       "      <td>...</td>\n",
       "      <td>-0.009431</td>\n",
       "      <td>0.798278</td>\n",
       "      <td>-0.137458</td>\n",
       "      <td>0.141267</td>\n",
       "      <td>-0.206010</td>\n",
       "      <td>0.502292</td>\n",
       "      <td>0.219422</td>\n",
       "      <td>0.215153</td>\n",
       "      <td>69.99</td>\n",
       "      <td>0</td>\n",
       "    </tr>\n",
       "  </tbody>\n",
       "</table>\n",
       "<p>5 rows × 31 columns</p>\n",
       "</div>"
      ],
      "text/plain": [
       "   Time        V1        V2        V3        V4        V5        V6        V7  \\\n",
       "0   0.0 -1.359807 -0.072781  2.536347  1.378155 -0.338321  0.462388  0.239599   \n",
       "1   0.0  1.191857  0.266151  0.166480  0.448154  0.060018 -0.082361 -0.078803   \n",
       "2   1.0 -1.358354 -1.340163  1.773209  0.379780 -0.503198  1.800499  0.791461   \n",
       "3   1.0 -0.966272 -0.185226  1.792993 -0.863291 -0.010309  1.247203  0.237609   \n",
       "4   2.0 -1.158233  0.877737  1.548718  0.403034 -0.407193  0.095921  0.592941   \n",
       "\n",
       "         V8        V9  ...       V21       V22       V23       V24       V25  \\\n",
       "0  0.098698  0.363787  ... -0.018307  0.277838 -0.110474  0.066928  0.128539   \n",
       "1  0.085102 -0.255425  ... -0.225775 -0.638672  0.101288 -0.339846  0.167170   \n",
       "2  0.247676 -1.514654  ...  0.247998  0.771679  0.909412 -0.689281 -0.327642   \n",
       "3  0.377436 -1.387024  ... -0.108300  0.005274 -0.190321 -1.175575  0.647376   \n",
       "4 -0.270533  0.817739  ... -0.009431  0.798278 -0.137458  0.141267 -0.206010   \n",
       "\n",
       "        V26       V27       V28  Amount  Class  \n",
       "0 -0.189115  0.133558 -0.021053  149.62      0  \n",
       "1  0.125895 -0.008983  0.014724    2.69      0  \n",
       "2 -0.139097 -0.055353 -0.059752  378.66      0  \n",
       "3 -0.221929  0.062723  0.061458  123.50      0  \n",
       "4  0.502292  0.219422  0.215153   69.99      0  \n",
       "\n",
       "[5 rows x 31 columns]"
      ]
     },
     "execution_count": 2,
     "metadata": {},
     "output_type": "execute_result"
    }
   ],
   "source": [
    "current_dir = os.getcwd()\n",
    "data_folder = 'Data'\n",
    "file_path = os.path.join(current_dir, data_folder, 'compressed_creditcard.csv.zip')\n",
    "data = pd.read_csv(file_path)\n",
    "data.head()"
   ]
  },
  {
   "cell_type": "markdown",
   "metadata": {},
   "source": [
    "# EDA"
   ]
  },
  {
   "cell_type": "code",
   "execution_count": 4,
   "metadata": {},
   "outputs": [
    {
     "name": "stdout",
     "output_type": "stream",
     "text": [
      "Class counts:\n",
      "0    284315\n",
      "1       492\n",
      "Name: Class, dtype: int64\n",
      "\n",
      "Class shares:\n",
      "0    0.998273\n",
      "1    0.001727\n",
      "Name: Class, dtype: float64\n"
     ]
    }
   ],
   "source": [
    "# Highly inbalanced dataset\n",
    "print('Class counts:')\n",
    "print(data['Class'].value_counts())\n",
    "print()\n",
    "print('Class shares:')\n",
    "print(data['Class'].value_counts(normalize=True))"
   ]
  },
  {
   "cell_type": "code",
   "execution_count": 5,
   "metadata": {},
   "outputs": [
    {
     "data": {
      "text/plain": [
       "Text(0, 0.5, 'amount')"
      ]
     },
     "execution_count": 5,
     "metadata": {},
     "output_type": "execute_result"
    },
    {
     "data": {
      "image/png": "[encoded data removed]",
      "text/plain": [
       "<Figure size 720x432 with 1 Axes>"
      ]
     },
     "metadata": {
      "needs_background": "light"
     },
     "output_type": "display_data"
    }
   ],
   "source": [
    "# Amount\n",
    "groups = data.groupby(\"Class\")\n",
    "for name, group in groups:\n",
    "    plt.plot(group[\"Time\"], group[\"Amount\"], marker=\"o\", linestyle=\"\", label='Class' + '_' + str(name))\n",
    "plt.legend()\n",
    "plt.xlabel('time')\n",
    "plt.ylabel('amount')"
   ]
  },
  {
   "cell_type": "code",
   "execution_count": 6,
   "metadata": {},
   "outputs": [
    {
     "data": {
      "image/png": "[encoded data removed]",
      "text/plain": [
       "<Figure size 1080x360 with 2 Axes>"
      ]
     },
     "metadata": {
      "needs_background": "light"
     },
     "output_type": "display_data"
    }
   ],
   "source": [
    "fig, (ax1, ax2) = plt.subplots(1,2, sharey=False, figsize = (15,5))\n",
    "# Distribution of majority Amount point for normal transactions\n",
    "ax1.hist(data[(data['Class']==0) & (data['Amount']<5000)]['Amount'], bins=100)\n",
    "ax1.set_title('Normal')\n",
    "ax1.set_ylabel('Frequency')\n",
    "ax1.set_xlabel('Amount')\n",
    "\n",
    "# Distribution of Amount  for fraudulent transactions\n",
    "ax2.hist(data[(data['Class']==1)]['Amount'], bins=100)\n",
    "ax2.set_title('Fraud')\n",
    "ax2.set_xlabel('Amount')\n",
    "\n",
    "plt.show()"
   ]
  },
  {
   "cell_type": "code",
   "execution_count": 7,
   "metadata": {},
   "outputs": [
    {
     "data": {
      "image/png": "[encoded data removed]",
      "text/plain": [
       "<Figure size 1440x1440 with 30 Axes>"
      ]
     },
     "metadata": {
      "needs_background": "light"
     },
     "output_type": "display_data"
    }
   ],
   "source": [
    "# V1-V28\n",
    "data.loc[:,'V1':'V28'].hist(figsize = (20,20))\n",
    "plt.show()"
   ]
  },
  {
   "cell_type": "code",
   "execution_count": 8,
   "metadata": {},
   "outputs": [
    {
     "data": {
      "text/plain": [
       "{'V22': 0.0008053175052959087,\n",
       " 'V23': -0.0026851557402423334,\n",
       " 'V25': 0.003307705597289396,\n",
       " 'V15': -0.004223402267843594,\n",
       " 'V26': 0.004455397501269385,\n",
       " 'V13': -0.004569778799447076,\n",
       " 'Amount': 0.005631753006749995,\n",
       " 'V24': -0.007220906715930302,\n",
       " 'V28': 0.009536040916206127,\n",
       " 'Time': -0.012322570929207388,\n",
       " 'V27': 0.017579728189458178,\n",
       " 'V8': 0.019875123914733152,\n",
       " 'V20': 0.02009032419691219,\n",
       " 'V19': 0.03478301303640624,\n",
       " 'V21': 0.0404133806104527,\n",
       " 'V6': -0.043643160699829035,\n",
       " 'V2': 0.09128865034433539,\n",
       " 'V5': -0.09497429899115035,\n",
       " 'V9': -0.09773268607377424,\n",
       " 'V1': -0.10134729859476974,\n",
       " 'V18': -0.11148525388869356,\n",
       " 'V4': 0.1334474862385853,\n",
       " 'V11': 0.15487564474346413,\n",
       " 'V7': -0.18725659151371082,\n",
       " 'V3': -0.1929608270668159,\n",
       " 'V16': -0.1965389403034051,\n",
       " 'V10': -0.21688294364035496,\n",
       " 'V12': -0.2605929248764044,\n",
       " 'V14': -0.30254369580346246,\n",
       " 'V17': -0.32648106724269765}"
      ]
     },
     "execution_count": 8,
     "metadata": {},
     "output_type": "execute_result"
    }
   ],
   "source": [
    "# Correlations with Class:\n",
    "corrs = {}\n",
    "for col in data.columns.drop('Class'):\n",
    "    corrs[col] = data['Class'].corr(data[col])\n",
    "\n",
    "# Sort corr asc:\n",
    "{k: v for k, v in sorted(corrs.items(), key=lambda item: abs(item[1]))}"
   ]
  },
  {
   "cell_type": "markdown",
   "metadata": {},
   "source": [
    "# Models"
   ]
  },
  {
   "cell_type": "code",
   "execution_count": 3,
   "metadata": {},
   "outputs": [
    {
     "name": "stdout",
     "output_type": "stream",
     "text": [
      "X shape (284807, 30)\n",
      "y shape (284807,)\n",
      "\n",
      "X train shape (213605, 30)\n",
      "X test shape (71202, 30)\n",
      "\n",
      "Share of Class 1 in train: 0.0017304770301450037\n",
      "Share of Class 1 in test: 0.0017304689148693708\n"
     ]
    }
   ],
   "source": [
    "# Train test split\n",
    "state = np.random.RandomState(42)\n",
    "cols = data.columns.drop('Class')\n",
    "X = data[cols]\n",
    "y = data['Class']\n",
    "print('X shape', X.shape)\n",
    "print('y shape', y.shape)\n",
    "\n",
    "X_train, X_test, y_train, y_test = train_test_split(X, y, test_size=0.25, random_state=state, stratify=y)\n",
    "print()\n",
    "print('X train shape', X_train.shape)\n",
    "print('X test shape', X_test.shape)\n",
    "\n",
    "print()\n",
    "class1_train = len(y_train[y_train==1])/len(y_train[y_train==0])\n",
    "class1_test = len(y_test[y_test==1])/len(y_test[y_test==0])\n",
    "print('Share of Class 1 in train:', class1_train)\n",
    "print('Share of Class 1 in test:', class1_test)"
   ]
  },
  {
   "cell_type": "markdown",
   "metadata": {},
   "source": [
    "## Isolation Forest"
   ]
  },
  {
   "cell_type": "code",
   "execution_count": 10,
   "metadata": {},
   "outputs": [],
   "source": [
    "# Base model\n",
    "isfor = IsolationForest(contamination = class1_train, random_state = state, bootstrap = True)"
   ]
  },
  {
   "cell_type": "code",
   "execution_count": 11,
   "metadata": {},
   "outputs": [],
   "source": [
    "# Isfor returns 1 for normal data and -1 for outliers. Function to adjust the labels:\n",
    "def adjust_labels(s):\n",
    "    s[s==1]=0\n",
    "    s[s==-1]=1\n",
    "    return s"
   ]
  },
  {
   "cell_type": "code",
   "execution_count": 12,
   "metadata": {},
   "outputs": [
    {
     "name": "stdout",
     "output_type": "stream",
     "text": [
      "N estimators 100\n",
      "Train fit\n",
      "              precision    recall  f1-score   support\n",
      "\n",
      "           0       1.00      1.00      1.00    213236\n",
      "           1       0.26      0.26      0.26       369\n",
      "\n",
      "    accuracy                           1.00    213605\n",
      "   macro avg       0.63      0.63      0.63    213605\n",
      "weighted avg       1.00      1.00      1.00    213605\n",
      "\n",
      "Test fit\n",
      "              precision    recall  f1-score   support\n",
      "\n",
      "           0       1.00      1.00      1.00     71079\n",
      "           1       0.24      0.24      0.24       123\n",
      "\n",
      "    accuracy                           1.00     71202\n",
      "   macro avg       0.62      0.62      0.62     71202\n",
      "weighted avg       1.00      1.00      1.00     71202\n",
      "\n",
      "N estimators 300\n",
      "Train fit\n",
      "              precision    recall  f1-score   support\n",
      "\n",
      "           0       1.00      1.00      1.00    213236\n",
      "           1       0.25      0.25      0.25       369\n",
      "\n",
      "    accuracy                           1.00    213605\n",
      "   macro avg       0.62      0.62      0.62    213605\n",
      "weighted avg       1.00      1.00      1.00    213605\n",
      "\n",
      "Test fit\n",
      "              precision    recall  f1-score   support\n",
      "\n",
      "           0       1.00      1.00      1.00     71079\n",
      "           1       0.22      0.24      0.23       123\n",
      "\n",
      "    accuracy                           1.00     71202\n",
      "   macro avg       0.61      0.62      0.62     71202\n",
      "weighted avg       1.00      1.00      1.00     71202\n",
      "\n",
      "N estimators 500\n",
      "Train fit\n",
      "              precision    recall  f1-score   support\n",
      "\n",
      "           0       1.00      1.00      1.00    213236\n",
      "           1       0.27      0.27      0.27       369\n",
      "\n",
      "    accuracy                           1.00    213605\n",
      "   macro avg       0.64      0.64      0.64    213605\n",
      "weighted avg       1.00      1.00      1.00    213605\n",
      "\n",
      "Test fit\n",
      "              precision    recall  f1-score   support\n",
      "\n",
      "           0       1.00      1.00      1.00     71079\n",
      "           1       0.25      0.26      0.26       123\n",
      "\n",
      "    accuracy                           1.00     71202\n",
      "   macro avg       0.63      0.63      0.63     71202\n",
      "weighted avg       1.00      1.00      1.00     71202\n",
      "\n"
     ]
    }
   ],
   "source": [
    "# Tuning n_estimators based on highest recall on test set\n",
    "n_est = [100, 300, 500]\n",
    "for n in n_est:\n",
    "    print('N estimators', n)\n",
    "    \n",
    "    isfor.set_params(n_estimators = n)\n",
    "    isfor.fit(X_train)\n",
    "    \n",
    "    y_fit = isfor.predict(X_train)    \n",
    "    y_pred = isfor.predict(X_test)\n",
    "    \n",
    "    adjust_labels(y_fit)\n",
    "    adjust_labels(y_pred)\n",
    "    \n",
    "    print('Train fit')\n",
    "    print(classification_report(y_train, y_fit))\n",
    "    \n",
    "    print('Test fit')\n",
    "    print(classification_report(y_test, y_pred))\n",
    "\n",
    "# n_estimators of 700 or 1000 did not give higher recall. Best n_estimators = 300 or 500"
   ]
  },
  {
   "cell_type": "markdown",
   "metadata": {},
   "source": [
    "Best isfor model has recall on test set 0.24-0.27. So max 27% of all real fraud transactions get detected. Not very high."
   ]
  },
  {
   "cell_type": "code",
   "execution_count": 13,
   "metadata": {},
   "outputs": [
    {
     "data": {
      "image/png": "[encoded data removed]",
      "text/plain": [
       "<Figure size 288x288 with 2 Axes>"
      ]
     },
     "metadata": {
      "needs_background": "light"
     },
     "output_type": "display_data"
    }
   ],
   "source": [
    "# Confusion matrix\n",
    "from sklearn.metrics import confusion_matrix\n",
    "def plot_conf_matrix():\n",
    "    cm = confusion_matrix(y_test, y_pred) \n",
    "    # Transform to df for easier plotting\n",
    "    cm_df = pd.DataFrame(cm,\n",
    "                     index = ['normal','fraud'], \n",
    "                     columns = ['normal','fraud'])\n",
    "\n",
    "    plt.figure(figsize=(4,4))\n",
    "    sns.heatmap(cm_df, annot=True)\n",
    "    plt.ylabel('True label')\n",
    "    plt.xlabel('Predicted label')\n",
    "    return plt.show()\n",
    "\n",
    "plot_conf_matrix()"
   ]
  },
  {
   "cell_type": "markdown",
   "metadata": {},
   "source": [
    "## Gradient boosting"
   ]
  },
  {
   "cell_type": "code",
   "execution_count": 14,
   "metadata": {},
   "outputs": [
    {
     "name": "stdout",
     "output_type": "stream",
     "text": [
      "              precision    recall  f1-score   support\n",
      "\n",
      "           0       1.00      1.00      1.00     71079\n",
      "           1       0.81      0.73      0.77       123\n",
      "\n",
      "    accuracy                           1.00     71202\n",
      "   macro avg       0.91      0.87      0.88     71202\n",
      "weighted avg       1.00      1.00      1.00     71202\n",
      "\n"
     ]
    }
   ],
   "source": [
    "# Base model\n",
    "gbc = GradientBoostingClassifier(random_state=state, min_weight_fraction_leaf=0.1)\n",
    "gbc.fit(X_train, y_train, sample_weight=10)\n",
    "\n",
    "y_pred = gbc.predict(X_test)\n",
    "print(classification_report(y_test, y_pred))"
   ]
  },
  {
   "cell_type": "code",
   "execution_count": 15,
   "metadata": {},
   "outputs": [
    {
     "name": "stdout",
     "output_type": "stream",
     "text": [
      "Best metric: 0.7886178861788617\n",
      "Best params: [436, 0.09324306027671825, 0.7053855928128382, 0.38521969128922096, 0.08133634149444764]\n"
     ]
    }
   ],
   "source": [
    "# Tuning parmeters\n",
    "\n",
    "from skopt.space import Real, Integer\n",
    "from skopt.utils import use_named_args\n",
    "from skopt import forest_minimize\n",
    "from sklearn.metrics import f1_score, recall_score\n",
    "\n",
    "space  = [Integer(100, 500, name='n_estimators'),\n",
    "          Real(0.0001, 0.1, \"uniform\", name='learning_rate'),\n",
    "          Real(0.1, 1.0, \"uniform\", name='subsample'),\n",
    "          Real(0.1, 1.0, \"uniform\", name='max_features'),\n",
    "          Real(0.01, 0.5, \"uniform\", name='min_weight_fraction_leaf')\n",
    "         ]\n",
    "\n",
    "@use_named_args(space)\n",
    "def objective(**params):\n",
    "    gbc.set_params(**params)\n",
    "    return -np.mean(cross_val_score(gbc, X_train, y_train, cv=3, scoring=\"recall\", n_jobs=-1))\n",
    "\n",
    "# WARNING: runs several hours\n",
    "# results = forest_minimize(objective, space, n_calls=50, n_random_starts=5)\n",
    "# #results = gp_minimize(objective, space, n_calls=50, n_random_starts=5)\n",
    "# best_metric = results.fun\n",
    "# best_params = results.x\n",
    "\n",
    "# print('Best metric:', -1*best_metric)\n",
    "# print('Best params:', best_params)\n",
    "print('Best metric:', 0.7886178861788617)\n",
    "print('Best params:', [436, 0.09324306027671825, 0.7053855928128382, 0.38521969128922096, 0.08133634149444764])\n"
   ]
  },
  {
   "cell_type": "code",
   "execution_count": 16,
   "metadata": {},
   "outputs": [],
   "source": [
    "#Best metric: 0.7886178861788617\n",
    "#Best params: [436, 0.09324306027671825, 0.7053855928128382, 0.38521969128922096, 0.08133634149444764]"
   ]
  },
  {
   "cell_type": "code",
   "execution_count": 17,
   "metadata": {},
   "outputs": [
    {
     "name": "stdout",
     "output_type": "stream",
     "text": [
      "              precision    recall  f1-score   support\n",
      "\n",
      "           0       1.00      1.00      1.00     71079\n",
      "           1       0.93      0.76      0.84       123\n",
      "\n",
      "    accuracy                           1.00     71202\n",
      "   macro avg       0.97      0.88      0.92     71202\n",
      "weighted avg       1.00      1.00      1.00     71202\n",
      "\n"
     ]
    }
   ],
   "source": [
    "# FITTING MODEL WITH BEST FOUND PARAMETERS\n",
    "gbc.set_params(n_estimators=436, learning_rate=0.09, subsample=0.71, max_features=0.39, min_weight_fraction_leaf=0.08)\n",
    "gbc.fit(X_train, y_train, sample_weight=10)\n",
    "\n",
    "y_pred = gbc.predict(X_test)\n",
    "print(classification_report(y_test, y_pred))"
   ]
  },
  {
   "cell_type": "code",
   "execution_count": 18,
   "metadata": {},
   "outputs": [
    {
     "name": "stdout",
     "output_type": "stream",
     "text": [
      "Best metric: 0.7886178861788617\n",
      "Best params: [305, 0.06303772967981788, 0.09114996243159758]\n"
     ]
    }
   ],
   "source": [
    "# Tuning parmeters round 2\n",
    "\n",
    "gbc.set_params(subsample=0.7, max_features=0.4)\n",
    "\n",
    "space  = [Integer(100, 500, name='n_estimators'),\n",
    "          Real(0.05, 0.2, \"uniform\", name='learning_rate'),\n",
    "          Real(0.01, 0.1, \"uniform\", name='min_weight_fraction_leaf')\n",
    "         ]\n",
    "\n",
    "@use_named_args(space)\n",
    "def objective(**params):\n",
    "    gbc.set_params(**params)\n",
    "    return -np.mean(cross_val_score(gbc, X_train, y_train, cv=3, scoring=\"recall\", n_jobs=-1))\n",
    "\n",
    "# # Takes a while to run. Commenting out.\n",
    "# results = forest_minimize(objective, space, n_calls=10, n_random_starts=2, n_jobs=-1)\n",
    "# #results = gp_minimize(objective, space, n_calls=50, n_random_starts=5)\n",
    "# best_metric = results.fun\n",
    "# best_params = results.x\n",
    "\n",
    "# print('Best metric:', -1*best_metric)\n",
    "# print('Best params:', best_params)\n",
    "print('Best metric:', 0.7886178861788617)\n",
    "print('Best params:', [305, 0.06303772967981788, 0.09114996243159758])\n"
   ]
  },
  {
   "cell_type": "code",
   "execution_count": 19,
   "metadata": {},
   "outputs": [
    {
     "name": "stdout",
     "output_type": "stream",
     "text": [
      "              precision    recall  f1-score   support\n",
      "\n",
      "           0       1.00      1.00      1.00     71079\n",
      "           1       0.89      0.76      0.82       123\n",
      "\n",
      "    accuracy                           1.00     71202\n",
      "   macro avg       0.94      0.88      0.91     71202\n",
      "weighted avg       1.00      1.00      1.00     71202\n",
      "\n"
     ]
    }
   ],
   "source": [
    "# FITTING MODEL WITH BEST FOUND PARAMETERS IN ROUND 2\n",
    "gbc.set_params(n_estimators=305, learning_rate=0.06, subsample=0.7, max_features=0.4, min_weight_fraction_leaf=0.09)\n",
    "gbc.fit(X_train, y_train, sample_weight=10)\n",
    "\n",
    "y_pred = gbc.predict(X_test)\n",
    "print(classification_report(y_test, y_pred))"
   ]
  },
  {
   "cell_type": "code",
   "execution_count": 20,
   "metadata": {},
   "outputs": [],
   "source": [
    "# No big difference from round 1, but in general improvement in recall from the base model. "
   ]
  },
  {
   "cell_type": "code",
   "execution_count": 21,
   "metadata": {},
   "outputs": [
    {
     "data": {
      "image/png": "[encoded data removed]",
      "text/plain": [
       "<Figure size 288x288 with 2 Axes>"
      ]
     },
     "metadata": {
      "needs_background": "light"
     },
     "output_type": "display_data"
    }
   ],
   "source": [
    "# CONFUSION MATRIX FOR GBC\n",
    "plot_conf_matrix()"
   ]
  },
  {
   "cell_type": "markdown",
   "metadata": {},
   "source": [
    "## Autoencoders"
   ]
  },
  {
   "cell_type": "markdown",
   "metadata": {},
   "source": [
    "Idea: model normal transactions only. When reconstructing input, the error will be largest on fraudulent transactions."
   ]
  },
  {
   "cell_type": "code",
   "execution_count": 54,
   "metadata": {},
   "outputs": [
    {
     "name": "stdout",
     "output_type": "stream",
     "text": [
      "X train 2 normal shape (170588, 30)\n",
      "X test 2 normal shape (42648, 30)\n"
     ]
    }
   ],
   "source": [
    "# Train set - keep only normal transactions\n",
    "X_train2 = X_train.copy()\n",
    "X_train2['y'] = y_train\n",
    "X_train2 = X_train2[X_train2['y']==0]\n",
    "X_train2 = X_train2.drop('y',axis=1)\n",
    "\n",
    "X_train2, X_test2 = train_test_split(X_train2, test_size=0.2, random_state=state)\n",
    "print('X train 2 normal shape', X_train2.shape)\n",
    "print('X test 2 normal shape', X_test2.shape)\n",
    "\n",
    "\n",
    "# Test set - keep as is for validation (includes both normal and fraudulent transactions)\n",
    "X_valid = X_test.copy()"
   ]
  },
  {
   "cell_type": "code",
   "execution_count": 55,
   "metadata": {},
   "outputs": [],
   "source": [
    "# Scale data\n",
    "from sklearn.preprocessing import StandardScaler, MinMaxScaler\n",
    "scaler1 = MinMaxScaler()\n",
    "X_train_scaled = scaler1.fit_transform(X_train2)\n",
    "X_test_scaled = scaler1.transform(X_test2)\n",
    "\n",
    "scaler2 = StandardScaler()\n",
    "X_train_scaled2 = scaler2.fit_transform(X_train2)\n",
    "X_test_scaled2 = scaler2.transform(X_test2)"
   ]
  },
  {
   "cell_type": "code",
   "execution_count": 90,
   "metadata": {},
   "outputs": [
    {
     "name": "stdout",
     "output_type": "stream",
     "text": [
      "Train on 170588 samples, validate on 42648 samples\n",
      "Epoch 1/10\n",
      "170588/170588 [==============================] - 3s 20us/sample - loss: 0.0169 - val_loss: 0.0018\n",
      "Epoch 2/10\n",
      "170588/170588 [==============================] - 2s 13us/sample - loss: 0.0018 - val_loss: 0.0017\n",
      "Epoch 3/10\n",
      "170588/170588 [==============================] - 2s 13us/sample - loss: 0.0017 - val_loss: 0.0016\n",
      "Epoch 4/10\n",
      "170588/170588 [==============================] - 2s 13us/sample - loss: 0.0016 - val_loss: 0.0016\n",
      "Epoch 5/10\n",
      "170588/170588 [==============================] - 2s 14us/sample - loss: 0.0016 - val_loss: 0.0016\n",
      "Epoch 6/10\n",
      "170588/170588 [==============================] - 2s 13us/sample - loss: 0.0015 - val_loss: 0.0015\n",
      "Epoch 7/10\n",
      "170588/170588 [==============================] - 2s 13us/sample - loss: 0.0015 - val_loss: 0.0015\n",
      "Epoch 8/10\n",
      "170588/170588 [==============================] - 2s 13us/sample - loss: 0.0014 - val_loss: 0.0014\n",
      "Epoch 9/10\n",
      "170588/170588 [==============================] - 2s 13us/sample - loss: 0.0014 - val_loss: 0.0014\n",
      "Epoch 10/10\n",
      "170588/170588 [==============================] - 2s 13us/sample - loss: 0.0014 - val_loss: 0.0014\n"
     ]
    },
    {
     "data": {
      "text/plain": [
       "<tensorflow.python.keras.callbacks.History at 0x1da401eaf08>"
      ]
     },
     "execution_count": 90,
     "metadata": {},
     "output_type": "execute_result"
    }
   ],
   "source": [
    "# Model 1: normalized input\n",
    "from tensorflow import keras\n",
    "from tensorflow.keras import layers, regularizers\n",
    "\n",
    "n_cols = X_train_scaled.shape[1]\n",
    "n_units = 20\n",
    "\n",
    "input_layer = keras.Input(shape=(n_cols,))\n",
    "encoded = layers.Dense(n_units, activation='relu')(input_layer)\n",
    "\n",
    "encoded = layers.Dense(n_units//2, activation='relu')(encoded)\n",
    "encoded = layers.Dense(n_units//4, activation='relu')(encoded)\n",
    "\n",
    "decoded = layers.Dense(n_units//2, activation='relu')(encoded)\n",
    "decoded = layers.Dense(n_units, activation='relu')(decoded)\n",
    "decoded = layers.Dense(n_cols, activation='linear')(decoded) # sigmoid is tested, performance slightly wors on anomaly detection\n",
    "\n",
    "autoencoder1 = keras.Model(input_layer, decoded)\n",
    "autoencoder1.compile(optimizer='adam', loss='mean_squared_error')\n",
    "\n",
    "autoencoder1.fit(X_train_scaled, X_train_scaled,\n",
    "                epochs=10,\n",
    "                batch_size=128,\n",
    "                shuffle=True,\n",
    "                validation_data=(X_test_scaled, X_test_scaled),\n",
    "                verbose=1)"
   ]
  },
  {
   "cell_type": "code",
   "execution_count": 40,
   "metadata": {},
   "outputs": [
    {
     "name": "stdout",
     "output_type": "stream",
     "text": [
      "Train on 170588 samples, validate on 42648 samples\n",
      "Epoch 1/10\n",
      "170588/170588 [==============================] - 3s 16us/sample - loss: 0.7939 - val_loss: 0.6998\n",
      "Epoch 2/10\n",
      "170588/170588 [==============================] - 2s 12us/sample - loss: 0.6694 - val_loss: 0.6395\n",
      "Epoch 3/10\n",
      "170588/170588 [==============================] - 2s 12us/sample - loss: 0.6302 - val_loss: 0.6158\n",
      "Epoch 4/10\n",
      "170588/170588 [==============================] - 2s 12us/sample - loss: 0.6099 - val_loss: 0.6137\n",
      "Epoch 5/10\n",
      "170588/170588 [==============================] - 2s 12us/sample - loss: 0.5994 - val_loss: 0.5897\n",
      "Epoch 6/10\n",
      "170588/170588 [==============================] - 2s 14us/sample - loss: 0.5849 - val_loss: 0.5762\n",
      "Epoch 7/10\n",
      "170588/170588 [==============================] - 2s 13us/sample - loss: 0.5755 - val_loss: 0.5919\n",
      "Epoch 8/10\n",
      "170588/170588 [==============================] - 2s 12us/sample - loss: 0.5664 - val_loss: 0.5596\n",
      "Epoch 9/10\n",
      "170588/170588 [==============================] - 2s 12us/sample - loss: 0.5586 - val_loss: 0.5530\n",
      "Epoch 10/10\n",
      "170588/170588 [==============================] - 2s 12us/sample - loss: 0.5514 - val_loss: 0.5512\n"
     ]
    },
    {
     "data": {
      "text/plain": [
       "<tensorflow.python.keras.callbacks.History at 0x1da3cd15b08>"
      ]
     },
     "execution_count": 40,
     "metadata": {},
     "output_type": "execute_result"
    }
   ],
   "source": [
    "# Model 2: standardized input\n",
    "\n",
    "autoencoder2 = keras.Model(input_layer, decoded)\n",
    "autoencoder2.compile(optimizer='adam', loss='mean_squared_error')\n",
    "\n",
    "autoencoder2.fit(X_train_scaled2, X_train_scaled2,\n",
    "                epochs=10,\n",
    "                batch_size=128,\n",
    "                shuffle=True,\n",
    "                validation_data=(X_test_scaled2, X_test_scaled2),\n",
    "                verbose=1)\n",
    "\n",
    "# Standardized input performes much worse than normalized. Might be due to relu on the first layer."
   ]
  },
  {
   "cell_type": "code",
   "execution_count": 91,
   "metadata": {},
   "outputs": [
    {
     "data": {
      "text/plain": [
       "0.0014011967779833142"
      ]
     },
     "execution_count": 91,
     "metadata": {},
     "output_type": "execute_result"
    }
   ],
   "source": [
    "# Control\n",
    "pred_test = autoencoder1.predict(X_test_scaled)\n",
    "np.mean(np.mean((X_test_scaled-pred_test)**2, axis=1))"
   ]
  },
  {
   "cell_type": "code",
   "execution_count": 92,
   "metadata": {},
   "outputs": [
    {
     "name": "stdout",
     "output_type": "stream",
     "text": [
      "Normal transactions:\n",
      "              X_mse\n",
      "count  71079.000000\n",
      "mean       0.001409\n",
      "std        0.001504\n",
      "min        0.000110\n",
      "25%        0.000740\n",
      "50%        0.001128\n",
      "75%        0.001738\n",
      "max        0.081728\n",
      "Fraud transactions:\n",
      "            X_mse\n",
      "count  123.000000\n",
      "mean     0.024338\n",
      "std      0.026292\n",
      "min      0.000542\n",
      "25%      0.006115\n",
      "50%      0.013423\n",
      "75%      0.035114\n",
      "max      0.095934\n",
      "All transactions:\n",
      "              X_mse\n",
      "count  71202.000000\n",
      "mean       0.001449\n",
      "std        0.002086\n",
      "min        0.000110\n",
      "25%        0.000740\n",
      "50%        0.001129\n",
      "75%        0.001741\n",
      "max        0.095934\n"
     ]
    }
   ],
   "source": [
    "# Validation\n",
    "X_valid_scaled = scaler1.transform(X_valid)\n",
    "X_pred = autoencoder1.predict(X_valid_scaled)\n",
    "X_mse = np.mean((X_valid_scaled-X_pred)**2, axis=1)\n",
    "result_df = pd.DataFrame({'X_mse':X_mse, 'y':y_test})\n",
    "print('Normal transactions:')\n",
    "print(result_df[result_df['y']==0][['X_mse']].describe())\n",
    "\n",
    "print('Fraud transactions:')\n",
    "print(result_df[result_df['y']==1][['X_mse']].describe())\n",
    "\n",
    "print('All transactions:')\n",
    "print(result_df[['X_mse']].describe())\n",
    "\n",
    "# Insight: the patterns are difficult to separate as mse distribution is much overlapping btw normal and fraud transactions"
   ]
  },
  {
   "cell_type": "code",
   "execution_count": 93,
   "metadata": {},
   "outputs": [
    {
     "name": "stdout",
     "output_type": "stream",
     "text": [
      "0.003071929283885837 0.059004524886877824 0.030521486752176762 0.8834688346883469\n",
      "0.003301981975575679 0.07224590531747813 0.03768285547103569 0.8726287262872628\n",
      "0.0036247232425168857 0.09294777220419002 0.04914963332813231 0.8536585365853658\n",
      "0.004152800658022956 0.13183972425678586 0.07161245026913175 0.8292682926829268\n",
      "0.005546029937288444 0.2354349561053472 0.1380439868975199 0.7994579945799458\n"
     ]
    }
   ],
   "source": [
    "# Anomaly detection\n",
    "# Otpimizing the error threshold on initial X_train (with both normal and fraud transactions) - based on total error distribution\n",
    "train_scaled = scaler1.transform(X_train)\n",
    "train_pred = autoencoder1.predict(train_scaled)\n",
    "train_mse = np.mean((train_scaled-train_pred)**2, axis=1)\n",
    "# train_df = pd.DataFrame({'train_mse':train_mse, 'y':y_train})\n",
    "from sklearn.metrics import f1_score, recall_score, precision_score\n",
    "for i in range(95,100):\n",
    "    t = np.quantile(train_mse, i/100)\n",
    "    y_pred = [1 if e>t else 0 for e in train_mse]\n",
    "    f_score = f1_score(y_train, y_pred)\n",
    "    prec = precision_score(y_train, y_pred)\n",
    "    rcl = recall_score(y_train, y_pred)\n",
    "    print(t, f_score, prec, rcl)"
   ]
  },
  {
   "cell_type": "code",
   "execution_count": 94,
   "metadata": {},
   "outputs": [
    {
     "name": "stdout",
     "output_type": "stream",
     "text": [
      "1 0.04861470262282971 0.024988607018076866 0.8915989159891599\n",
      "2 0.14779038879497708 0.08112407211028633 0.8292682926829268\n",
      "3 0.2523850823937554 0.1502323180175529 0.7886178861788617\n",
      "4 0.3163841807909604 0.20588235294117646 0.6829268292682927\n",
      "5 0.36263736263736257 0.25524861878453037 0.6260162601626016\n",
      "6 0.4192634560906515 0.3217391304347826 0.6016260162601627\n",
      "7 0.44654088050314467 0.3641025641025641 0.5772357723577236\n",
      "8 0.46153846153846156 0.4146868250539957 0.5203252032520326\n",
      "9 0.45691906005221933 0.44080604534005036 0.4742547425474255\n"
     ]
    }
   ],
   "source": [
    "# Anomaly detection\n",
    "# Otpimizing the error threshold - based on error for normal transactions (in test - out of sample to allow for higher error)\n",
    "# Full train dataset (with both normal and fraud) is used for optimizing f1 & recall as fraud is unseen by the model\n",
    "\n",
    "test_normal_pred = autoencoder1.predict(X_test_scaled)\n",
    "test_normal_mse = np.mean((X_test_scaled-test_normal_pred)**2, axis=1)\n",
    "mean_mse = np.mean(test_normal_mse)\n",
    "std_mse = np.std(test_normal_mse)\n",
    "\n",
    "train_scaled = scaler1.transform(X_train)\n",
    "train_pred = autoencoder1.predict(train_scaled)\n",
    "train_mse = np.mean((train_scaled-train_pred)**2, axis=1)\n",
    "\n",
    "for i in range(1,10):\n",
    "    t = mean_mse + i*std_mse\n",
    "    y_pred = [1 if e>t else 0 for e in train_mse]\n",
    "    f_score = f1_score(y_train, y_pred)\n",
    "    prec = precision_score(y_train, y_pred)\n",
    "    rcl = recall_score(y_train, y_pred)\n",
    "    print(i, f_score, prec, rcl)"
   ]
  },
  {
   "cell_type": "code",
   "execution_count": 95,
   "metadata": {},
   "outputs": [
    {
     "name": "stdout",
     "output_type": "stream",
     "text": [
      "              precision    recall  f1-score   support\n",
      "\n",
      "           0       1.00      1.00      1.00     71079\n",
      "           1       0.40      0.51      0.45       123\n",
      "\n",
      "    accuracy                           1.00     71202\n",
      "   macro avg       0.70      0.76      0.72     71202\n",
      "weighted avg       1.00      1.00      1.00     71202\n",
      "\n"
     ]
    }
   ],
   "source": [
    "# Validation set\n",
    "# f1 score is highest with t=8*std and best balance btw precision (less false positives) and recall\n",
    "t = mean_mse + 8*std_mse\n",
    "\n",
    "X_valid_scaled = scaler1.transform(X_valid)\n",
    "X_pred = autoencoder1.predict(X_valid_scaled)\n",
    "X_mse = np.mean((X_valid_scaled-X_pred)**2, axis=1)\n",
    "\n",
    "y_pred = [1 if e>t else 0 for e in X_mse]\n",
    "print(classification_report(y_test, y_pred))"
   ]
  },
  {
   "cell_type": "code",
   "execution_count": 101,
   "metadata": {},
   "outputs": [
    {
     "data": {
      "image/png": "[encoded data removed]",
      "text/plain": [
       "<Figure size 288x288 with 2 Axes>"
      ]
     },
     "metadata": {
      "needs_background": "light"
     },
     "output_type": "display_data"
    }
   ],
   "source": [
    "plot_conf_matrix()"
   ]
  },
  {
   "cell_type": "markdown",
   "metadata": {},
   "source": [
    "# Conclusion"
   ]
  },
  {
   "cell_type": "markdown",
   "metadata": {},
   "source": [
    "For the given dataset with no additional feature engineering there is a large performance difference between different models. In our datasets fraud transaction patterns appear to be non-lenear and not easily separated from normal transactions. This could be the reason behind quite poor performance for both Isolation Forest and Autoencoders. GBM performs the best reaching precision of 0.89, reacall of 0.76 and f1 score of 0.82. "
   ]
  },
  {
   "cell_type": "code",
   "execution_count": null,
   "metadata": {},
   "outputs": [],
   "source": []
  }
 ],
 "metadata": {
  "kernelspec": {
   "display_name": "Python [conda env:anomaly_detection_env]",
   "language": "python",
   "name": "conda-env-anomaly_detection_env-py"
  },
  "language_info": {
   "codemirror_mode": {
    "name": "ipython",
    "version": 3
   },
   "file_extension": ".py",
   "mimetype": "text/x-python",
   "name": "python",
   "nbconvert_exporter": "python",
   "pygments_lexer": "ipython3",
   "version": "3.7.8"
  }
 },
 "nbformat": 4,
 "nbformat_minor": 4
}
